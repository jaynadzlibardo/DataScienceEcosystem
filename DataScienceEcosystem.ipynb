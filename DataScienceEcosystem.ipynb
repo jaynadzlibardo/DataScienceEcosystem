{
  "nbformat": 4,
  "nbformat_minor": 0,
  "metadata": {
    "colab": {
      "provenance": []
    },
    "kernelspec": {
      "name": "python3",
      "display_name": "Python 3"
    },
    "language_info": {
      "name": "python"
    }
  },
  "cells": [
    {
      "cell_type": "markdown",
      "source": [
        "# Data Science Tools and Ecosystem"
      ],
      "metadata": {
        "id": "HzkU8WCjd0cW"
      }
    },
    {
      "cell_type": "markdown",
      "source": [
        "## In this notebook, Data Science Tools and Ecosystem are summarized."
      ],
      "metadata": {
        "id": "o32_tg3yedCj"
      }
    },
    {
      "cell_type": "markdown",
      "source": [
        "**Objectives:**\n",
        "- Popular languages that Data Scientists use\n",
        "- Commonly used libraries used by Data Scientists\n",
        "- Data Science Tools"
      ],
      "metadata": {
        "id": "9HY2yuCep2Pk"
      }
    },
    {
      "cell_type": "markdown",
      "source": [
        "## Author\n",
        "Jay Nadz G. Libardo\n",
        "\n",
        "Electrical Engineer\n",
        "\n",
        "Aspiring Data Scientist\n"
      ],
      "metadata": {
        "id": "DPUQ2e7_rkGA"
      }
    },
    {
      "cell_type": "markdown",
      "source": [
        "### Some of the popular languages that Data Scientists use are:"
      ],
      "metadata": {
        "id": "u9YWz0ENevjt"
      }
    },
    {
      "cell_type": "markdown",
      "source": [
        "Recommended core languages for data science.\n",
        "1. Python - Most widely used and popular language in data science.\n",
        "2. R - Array-oriented syntax: Easier for those with a math background but no programming experience.\n",
        "3. SQL - Designed for relational databases (data stored in tables).\n",
        "\n",
        "Used for specific data science tasks.\n",
        "1. Scala - Functional programming language, interoperable with Java.\n",
        "2. Java - General-purpose, object-oriented language widely used in enterprise.\n",
        "3. C++ - General-purpose, system programming language (extension of C).\n",
        "4. Julia - Developed at MIT (2012) for high-performance numerical computing.\n",
        "\n",
        "Have unique use cases in certain domains.\n",
        "1. JavaScript\n",
        "2. PHP\n",
        "3. Go\n",
        "4. Ruby\n",
        "5. Visual Basic"
      ],
      "metadata": {
        "id": "f5wQ1QqihvJc"
      }
    },
    {
      "cell_type": "markdown",
      "source": [
        "### Some of the commonly used libraries used by Data Scientists include:"
      ],
      "metadata": {
        "id": "9XYUQxPnfOmO"
      }
    },
    {
      "cell_type": "markdown",
      "source": [
        "Scientific Computing Libraries in Python\n",
        "1. Pandas - Provides DataFrame structure (rows & columns).\n",
        "Used for data cleaning, manipulation, and analysis.\n",
        "Built on top of NumPy.\n",
        "2. NumPy - Supports arrays and matrices.\n",
        "Allows mathematical operations on large datasets efficiently.\n",
        "\n",
        "Visualization Libraries in Python\n",
        "1. Matplotlib - Most well-known plotting library.\n",
        "Highly customizable for creating graphs and plots.\n",
        "2. Seaborn - Built on Matplotlib.\n",
        "Generates heat maps, time series, violin plots, and other high-level visualizations.\n",
        "\n",
        "High-Level Machine Learning & Deep Learning Libraries\n",
        "1. Scikit-learn - Provides tools for statistical modeling (regression, classification, clustering).\n",
        "Built on NumPy, SciPy, and Matplotlib.\n",
        "2. Keras - High-level deep learning API.\n",
        "Allows fast development of deep learning models.\n",
        "Can run on GPUs for acceleration.\n",
        "\n",
        "Low-Level Deep Learning Libraries\n",
        "1. TensorFlow - Designed for production and deployment of deep learning models.\n",
        "Powerful but complex for experimentation.\n",
        "2. PyTorch - More flexible and easy for experimentation and research.\n",
        "Preferred by researchers over TensorFlow."
      ],
      "metadata": {
        "id": "5TRLdHKsivXU"
      }
    },
    {
      "cell_type": "markdown",
      "source": [
        "### Data Science Tools"
      ],
      "metadata": {
        "id": "H3t8mliWmhD2"
      }
    },
    {
      "cell_type": "markdown",
      "source": [
        "Data Management Tools\n",
        "1. Relational Databases: MySQL, PostgreSQL\n",
        "2. NoSQL Databases: MongoDB, Apache CouchDB, Apache Cassandra\n",
        "3. File-Based Storage: Hadoop File System, Ceph (Cloud File System)\n",
        "4. Search & Indexing: ElasticSearch\n",
        "\n",
        "Data Integration & Transformation Tools\n",
        "1. ETL & Pipelines: Apache AirFlow, KubeFlow, Apache Kafka, Apache Nifi\n",
        "2. SQL-Based Transformation: Apache SparkSQL\n",
        "3. Low-Resource Tool: NodeRED\n",
        "\n",
        "Data Visualization Tools\n",
        "1. Programming Libraries with UI: Pixie Dust, Hue\n",
        "2. Web-Based Visualization: Kibana (for ElasticSearch), Apache Superset\n",
        "\n",
        "Model Deployment Tools\n",
        "1. Deployment Services: Apache PredictionIO (supports Spark ML), Seldon (supports multiple ML frameworks)\n",
        "2. Container-Based Deployment: Kubernetes, Redhat OpenShift\n",
        "3. Spark ML Deployment: Mleap\n",
        "4. TensorFlow-Based Deployment: TensorFlow Service, TensorFlow Lite (for mobile/embedded), TensorFlow.js (for web)\n",
        "\n",
        "Model Monitoring & Assessment Tools\n",
        "1. Model Metadata & Tracking: ModelDB\n",
        "2. General Monitoring: Prometheus\n",
        "3. Bias & Fairness Detection: IBM AI Fairness 360\n",
        "4. Security & Robustness: IBM Adversarial Robustness 360 Toolbox\n",
        "5. Model Explainability: IBM AI Explainability 360\n",
        "\n",
        "Code Asset Management Tools\n",
        "1. Version Control: Git\n",
        "2. Platforms for Git: GitHub, GitLab (self-hosted option), Bitbucket\n",
        "Data Asset Management Tools\n",
        "3. Metadata & Governance: Apache Atlas, ODPi Egeria, Kylo"
      ],
      "metadata": {
        "id": "djdVoADCmlBe"
      }
    },
    {
      "cell_type": "markdown",
      "source": [
        "# Below are a few examples of evaluating arithmetic expressions in Python"
      ],
      "metadata": {
        "id": "ICtaktFbodfv"
      }
    },
    {
      "cell_type": "code",
      "source": [
        "(3*4)+5 #This a simple arithmetic expression to mutiply then add integers"
      ],
      "metadata": {
        "colab": {
          "base_uri": "https://localhost:8080/"
        },
        "id": "IIex-lhlowUu",
        "outputId": "328b0e8c-0c1f-48a1-d524-7ff6856ea599"
      },
      "execution_count": 1,
      "outputs": [
        {
          "output_type": "execute_result",
          "data": {
            "text/plain": [
              "17"
            ]
          },
          "metadata": {},
          "execution_count": 1
        }
      ]
    },
    {
      "cell_type": "code",
      "source": [
        "minutes = 200\n",
        "hours = minutes / 60\n",
        "print(hours)\n",
        "#This will convert 200 minutes to hours by diving by 60"
      ],
      "metadata": {
        "colab": {
          "base_uri": "https://localhost:8080/"
        },
        "id": "YiuN3Qr7pBPm",
        "outputId": "31aba5e9-72e3-487a-adff-c096968cc258"
      },
      "execution_count": 2,
      "outputs": [
        {
          "output_type": "stream",
          "name": "stdout",
          "text": [
            "3.3333333333333335\n"
          ]
        }
      ]
    },
    {
      "cell_type": "markdown",
      "source": [],
      "metadata": {
        "id": "o1MxI774rVjX"
      }
    }
  ]
}